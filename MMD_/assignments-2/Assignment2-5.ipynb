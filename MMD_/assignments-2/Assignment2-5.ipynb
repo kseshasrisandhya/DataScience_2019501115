{
 "cells": [
  {
   "cell_type": "code",
   "execution_count": 1,
   "metadata": {},
   "outputs": [],
   "source": [
    "import numpy as np\n",
    "\n",
    "def convertToRows(minhash_row, order):\n",
    "    the_rows = []\n",
    "\n",
    "    for item in minhash_row:\n",
    "        the_rows.append(order[item - 1])\n",
    "\n",
    "    return the_rows\n",
    "\n",
    "def minhash(matrix, order):\n",
    "    m = matrix.shape[1]\n",
    "    minhash_row = [0] * m\n",
    "    i = 1\n",
    "\n",
    "    for r in order:\n",
    "        row = matrix[r - 1]\n",
    "        for c in range(0, m):\n",
    "            if minhash_row[c] == 0:\n",
    "                minhash_row[c] = i * row[c]\n",
    "        i += 1\n",
    "        if 0 not in minhash_row:\n",
    "            break\n",
    "\n",
    "    return minhash_row"
   ]
  },
  {
   "cell_type": "code",
   "execution_count": 2,
   "metadata": {},
   "outputs": [
    {
     "name": "stdout",
     "output_type": "stream",
     "text": [
      "[5, 6, 4, 3]\n"
     ]
    }
   ],
   "source": [
    "matrix = np.array([[0, 1, 1, 0],\n",
    "                   [1, 0, 1, 1],\n",
    "                   [0, 1, 0, 1],\n",
    "                   [0, 0, 1, 0],\n",
    "                   [1, 0, 1, 0],\n",
    "                   [0, 1, 0, 0]])\n",
    "order = [4, 6, 1, 3, 5, 2]\n",
    "minhash_row = minhash(matrix, order)\n",
    "rows_that_contributed = convertToRows(minhash_row, order)\n",
    "print(rows_that_contributed)"
   ]
  },
  {
   "cell_type": "code",
   "execution_count": null,
   "metadata": {},
   "outputs": [],
   "source": []
  }
 ],
 "metadata": {
  "kernelspec": {
   "display_name": "Python 3",
   "language": "python",
   "name": "python3"
  },
  "language_info": {
   "codemirror_mode": {
    "name": "ipython",
    "version": 3
   },
   "file_extension": ".py",
   "mimetype": "text/x-python",
   "name": "python",
   "nbconvert_exporter": "python",
   "pygments_lexer": "ipython3",
   "version": "3.8.3"
  }
 },
 "nbformat": 4,
 "nbformat_minor": 4
}
