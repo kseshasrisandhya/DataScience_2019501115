{
 "cells": [
  {
   "cell_type": "code",
   "execution_count": 1,
   "metadata": {},
   "outputs": [],
   "source": [
    "str1 = \"ABRACADABRA\"\n",
    "str2 = \"BRICABRAC\"\n",
    "\n",
    "def getShingles(str):\n",
    "    shingles = []\n",
    "    doc_shingles = []\n",
    "    for i in range(len(str)-1):\n",
    "        shingles.append(str[i]+str[i+1])\n",
    "    return set(shingles)\n",
    "        \n",
    "def getCommon(list1,list2):\n",
    "    s1 = set(list1)\n",
    "    s2 = set(list2)\n",
    "    return len(s1.intersection(s2))\n",
    "\n",
    "def getTotal(list1,list2):\n",
    "    s1 = set(list1)\n",
    "    s2 = set(list2)\n",
    "    return len(s1.union(s2))"
   ]
  },
  {
   "cell_type": "code",
   "execution_count": 2,
   "metadata": {},
   "outputs": [
    {
     "name": "stdout",
     "output_type": "stream",
     "text": [
      "Set of 2-shinlges in ABRACADABRA = {'AC', 'AB', 'CA', 'RA', 'DA', 'AD', 'BR'}\n",
      "Set of 2-shinlges in BRICABRAC = {'AC', 'CA', 'AB', 'RA', 'RI', 'IC', 'BR'}\n",
      "Number of 2-shinlges in ABRACADABRA =  7\n",
      "Number of 2-shinlges in BRICABRAC =  7\n",
      "Number of Common Shingles =  5\n",
      "Total Number of Shingles =  9\n"
     ]
    }
   ],
   "source": [
    "print(\"Set of 2-shinlges in ABRACADABRA =\",  getShingles(str1))\n",
    "print(\"Set of 2-shinlges in BRICABRAC =\", getShingles(str2))\n",
    "print\n",
    "print(\"Number of 2-shinlges in ABRACADABRA = \", len(getShingles(str1)))\n",
    "print(\"Number of 2-shinlges in BRICABRAC = \", len(getShingles(str2)))\n",
    "print\n",
    "print(\"Number of Common Shingles = \", getCommon(getShingles(str1),getShingles(str2)))\n",
    "print(\"Total Number of Shingles = \", getTotal(getShingles(str1),getShingles(str2)))"
   ]
  },
  {
   "cell_type": "code",
   "execution_count": null,
   "metadata": {},
   "outputs": [],
   "source": []
  }
 ],
 "metadata": {
  "kernelspec": {
   "display_name": "Python 3",
   "language": "python",
   "name": "python3"
  },
  "language_info": {
   "codemirror_mode": {
    "name": "ipython",
    "version": 3
   },
   "file_extension": ".py",
   "mimetype": "text/x-python",
   "name": "python",
   "nbconvert_exporter": "python",
   "pygments_lexer": "ipython3",
   "version": "3.8.3"
  }
 },
 "nbformat": 4,
 "nbformat_minor": 4
}
