{
 "cells": [
  {
   "cell_type": "code",
   "execution_count": 2,
   "metadata": {},
   "outputs": [
    {
     "name": "stdout",
     "output_type": "stream",
     "text": [
      "Final PageRank: \n",
      "[[0.38778971]\n",
      " [0.21481063]\n",
      " [0.39739966]]\n"
     ]
    }
   ],
   "source": [
    "import numpy as np\n",
    "\n",
    "# Adjacency matrix\n",
    "# m2 = [ 0,  0, 1]\n",
    "#      [0.5, 0, 0]\n",
    "#      [0.5, 1, 0]\n",
    "\n",
    "m2 = np.matrix([[0, 0, 1],[0.5, 0, 0],[0.5, 1, 0]])\n",
    "beta =0.85\n",
    "\n",
    "def r_p(r):\n",
    "    return beta * m2 * r + np.matrix([0.05,0.05,0.05]).T\n",
    "\n",
    "r = np.matrix([1.0/3,1.0/3,1.0/3]).T\n",
    "\n",
    "for i in range(1000):\n",
    "    r = r_p(r)\n",
    "print(\"Final PageRank: \\n\" + str(r))"
   ]
  },
  {
   "cell_type": "code",
   "execution_count": 3,
   "metadata": {},
   "outputs": [
    {
     "name": "stdout",
     "output_type": "stream",
     "text": [
      "0.95a =  [[0.36840023]] = 0.9c + 0.05b =  [[0.36840023]]\n",
      "0.95b =  [[0.2040701]] = 0.475a + 0.05c =  [[0.2040701]]\n",
      "0.95c =  [[0.37752968]] = 0.9b + 0.475a =  [[0.37752968]]\n"
     ]
    }
   ],
   "source": [
    "a = r[0]\n",
    "b = r[1]\n",
    "c = r[2]\n",
    "\n",
    "print(\"0.95a = \", 0.95*a, \"= 0.9c + 0.05b = \", 0.9*c + 0.05*b)\n",
    "print(\"0.95b = \", 0.95*b, \"= 0.475a + 0.05c = \", 0.475*a + 0.05*c)\n",
    "print(\"0.95c = \", 0.95*c, \"= 0.9b + 0.475a = \",  0.9*b + 0.475*a)"
   ]
  },
  {
   "cell_type": "code",
   "execution_count": null,
   "metadata": {},
   "outputs": [],
   "source": []
  }
 ],
 "metadata": {
  "kernelspec": {
   "display_name": "Python 3",
   "language": "python",
   "name": "python3"
  },
  "language_info": {
   "codemirror_mode": {
    "name": "ipython",
    "version": 3
   },
   "file_extension": ".py",
   "mimetype": "text/x-python",
   "name": "python",
   "nbconvert_exporter": "python",
   "pygments_lexer": "ipython3",
   "version": "3.8.3"
  }
 },
 "nbformat": 4,
 "nbformat_minor": 4
}
