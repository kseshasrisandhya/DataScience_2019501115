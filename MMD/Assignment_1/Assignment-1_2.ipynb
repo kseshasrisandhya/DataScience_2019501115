{
 "cells": [
  {
   "cell_type": "code",
   "execution_count": 3,
   "metadata": {},
   "outputs": [
    {
     "name": "stdout",
     "output_type": "stream",
     "text": [
      "Final PageRank: \n",
      "[[0.3  ]\n",
      " [0.405]\n",
      " [2.295]]\n"
     ]
    }
   ],
   "source": [
    "import numpy as np\n",
    "\n",
    "# Adjacency matrix\n",
    "# m1 = [ 0,  0, 0]\n",
    "#      [0.5, 0, 0]\n",
    "#      [0.5, 1, 1]\n",
    "\n",
    "m1 = np.matrix([[0, 0, 0],[0.5, 0, 0],[0.5, 1, 1]])\n",
    "beta = 0.7\n",
    "\n",
    "# r = beta * m1 * r + ((1-beta)/N) \n",
    "def r_p(r):\n",
    "    return beta * m1 * r + np.matrix([0.1,0.1,0.1]).T\n",
    "\n",
    "r = np.matrix([1.0/3,1.0/3,1.0/3]).T\n",
    "\n",
    "for i in range(1000):\n",
    "    r = r_p(r)\n",
    "print(\"Final PageRank: \\n\" + str(r*3))"
   ]
  },
  {
   "cell_type": "code",
   "execution_count": 5,
   "metadata": {},
   "outputs": [
    {
     "name": "stdout",
     "output_type": "stream",
     "text": [
      "a =  [[0.3]]\n",
      "b =  [[0.405]]\n",
      "c =  [[2.295]]\n",
      "a + b =  [[0.705]]\n",
      "b + c =  [[2.7]]\n",
      "a + c =  [[2.595]]\n"
     ]
    }
   ],
   "source": [
    "a = r[0] * 3\n",
    "b = r[1] * 3\n",
    "c = r[2] * 3\n",
    "\n",
    "print('a = ', a)\n",
    "print('b = ', b)\n",
    "print('c = ', c)\n",
    "print('a + b = ', a + b)\n",
    "print('b + c = ', b + c)\n",
    "print('a + c = ', a + c)"
   ]
  },
  {
   "cell_type": "code",
   "execution_count": null,
   "metadata": {},
   "outputs": [],
   "source": []
  }
 ],
 "metadata": {
  "kernelspec": {
   "display_name": "Python 3",
   "language": "python",
   "name": "python3"
  },
  "language_info": {
   "codemirror_mode": {
    "name": "ipython",
    "version": 3
   },
   "file_extension": ".py",
   "mimetype": "text/x-python",
   "name": "python",
   "nbconvert_exporter": "python",
   "pygments_lexer": "ipython3",
   "version": "3.8.3"
  }
 },
 "nbformat": 4,
 "nbformat_minor": 4
}
